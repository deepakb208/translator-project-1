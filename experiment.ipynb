{
 "cells": [
  {
   "cell_type": "code",
   "execution_count": 1,
   "id": "31eb17d1-6bf0-44d5-954a-84d289187a57",
   "metadata": {},
   "outputs": [],
   "source": [
    "from docx import Document\n",
    "text_file = 'input/tripura_rahasya_english_final/tripura_rahasya_english_final.txt'\n",
    "docx_file = 'input/tripura_rahasya_english_final/tripura_rahasya_english_final_video_text.docx'"
   ]
  },
  {
   "cell_type": "code",
   "execution_count": 2,
   "id": "3121886c-6215-4ac5-9e18-72e384a68004",
   "metadata": {},
   "outputs": [],
   "source": [
    "with open(text_file, 'r') as file:\n",
    "    text = file.read()\n",
    "\n",
    "document = Document(docx_file)\n",
    "verses = []\n",
    "for paragraph in document.paragraphs:\n",
    "    if paragraph.text.strip():\n",
    "        verses.append(paragraph.text.strip())"
   ]
  },
  {
   "cell_type": "code",
   "execution_count": 4,
   "id": "c30a82d4-a2f2-4e65-87ac-d73d2bb01cfd",
   "metadata": {},
   "outputs": [],
   "source": [
    "def split_text(text, max_length=3000):\n",
    "    paragraphs = text.split('\\n')\n",
    "    current_chunk = \"\"\n",
    "    chunks = []\n",
    "    for paragraph in paragraphs:\n",
    "        if len(current_chunk) + len(paragraph) + 1 <= max_length:\n",
    "            current_chunk += paragraph + \"\\n\"\n",
    "        else:\n",
    "            chunks.append(current_chunk.strip())\n",
    "            current_chunk = paragraph + \"\\n\"\n",
    "    if current_chunk:\n",
    "        chunks.append(current_chunk.strip())\n",
    "    return chunks"
   ]
  },
  {
   "cell_type": "code",
   "execution_count": 6,
   "id": "e4211801-2622-4fce-87f7-9e9c190955c5",
   "metadata": {},
   "outputs": [
    {
     "name": "stdout",
     "output_type": "stream",
     "text": [
      "Processing Chapter 1\n",
      "Processing Chapter 2\n",
      "Processing Chapter 3\n",
      "Processing Chapter 4\n",
      "Processing Chapter 5\n",
      "Processing Chapter 6\n",
      "Processing Chapter 7\n",
      "Processing Chapter 8\n",
      "Processing Chapter 9\n",
      "Processing Chapter 10\n",
      "Processing Chapter 11\n",
      "Processing Chapter 12\n",
      "Processing Chapter 13\n",
      "Processing Chapter 14\n",
      "Processing Chapter 15\n",
      "Processing Chapter 16\n",
      "Processing Chapter 17\n",
      "Processing Chapter 18\n",
      "Processing Chapter 19\n",
      "Processing Chapter 20\n",
      "Processing Chapter 21\n",
      "Processing Chapter 22\n"
     ]
    }
   ],
   "source": [
    "chapters = text.split('Chapter ')\n",
    "chapter_texts = []\n",
    "for chapter in chapters[1:]:\n",
    "    chapter_number = chapter.split('\\n')[0].strip()\n",
    "    chapter_text = 'Chapter ' + chapter\n",
    "    print(f'Processing Chapter {chapter_number}')\n",
    "    chapter_texts.append(chapter_text)"
   ]
  },
  {
   "cell_type": "code",
   "execution_count": 9,
   "id": "6c0bf595-8733-4b84-9e1f-302ed969cddd",
   "metadata": {},
   "outputs": [],
   "source": [
    "document = Document(docx_file)"
   ]
  },
  {
   "cell_type": "code",
   "execution_count": 13,
   "id": "f61d9eb0-ab40-40f3-9171-b1972f35e100",
   "metadata": {},
   "outputs": [],
   "source": [
    "video_text = '\\n'.join([para.text for para in document.paragraphs])\n",
    "video_chapters = video_text.split('Chapter ')"
   ]
  },
  {
   "cell_type": "code",
   "execution_count": 15,
   "id": "5c160d8b-1d8f-44de-a9e5-fe77bd63cea5",
   "metadata": {},
   "outputs": [
    {
     "data": {
      "text/plain": [
       "'Chapter 1\\nVerse 1\\nॐ नमः कारणानन्दरुपिणी परचिन्मयि | \\nविराजते जगच्चित्रचित्रदर्पणरूपिणी ||\\nom namaḥ kāraṇānandarupiṇī parachinmayi | \\nvirājate jagacchitrachitradarpaṇarupiṇī ||\\nOm, salutations to the one who is the cause of bliss, the supreme consciousness, who shines in the universe like a mirror.\\nVerse 2\\nश्रुतं कच्चिन्नारदैतत् सावधानेन चेतसा । \\nमाहात्म्यं त्रिपुराख्याया यच्छ्रुतिः परसाधनम्\\u200c ॥ २ ॥\\nśrutaṁ kaccinnaradaitat sāvadānena chetasā । \\nmāhātmyaṁ tripurākhyāyā yachchrutiḥ parasādhanam ॥ 2 ॥\\nO Narada, have you heard with an attentive mind, the greatness of the one named Tripura, which the scripture declares as the supreme means?\\nVerse 3\\nअथ ते कथयाम्यद्य ज्ञानखण्डं महा महाद्भुतम्\\u200c । \\nयच्छ्रुत्वा न पुनः क्वापि मनुष्यः शोकमृच्छति॥ ३ ॥\\natha te kathayāmyadya jñānakhandaṁ mahā mahādbhutam । \\nyachchrutvā na punaḥ kvāpi manuṣyaḥ śokamṛcchati ॥ 3 ॥\\nToday I will tell you great and wonderful knowledge, which upon hearing, a human being will never experience grief again.\\nVerse 4\\nवैदिकं वैष्णवं दौवं शाक्तं पाशुपतं तथा । \\nविज्ञानं सम्यगालोच्य यदेतत्\\u200c प्रविनिश्चितम्\\u200c ॥ ४ ॥\\nvaidikaṁ vaiṣṇavaṁ dauvaṁ śāktaṁ pāśupataṁ tathā । \\nvijñānaṁ samyagālochya yadetat praviniśchitam ॥ 4 ॥\\nConsidering thoroughly the Vedic, Vaishnava, Shaiva, Shakta, and Pashupata knowledge, this conclusion has been reached.\\nVerse 5\\nनैतद्विज्ञानसदृशमन्यद्\\u200c मानसमारुहेत्\\u200c । \\nश्या श्रोदत्तगुरुणा भार्गवाय निरूपितम्\\u200c ।॥ ५ ॥\\nnaitadvijñānasadṛśamanyad mānasamāruhet । \\nśyā środattaguruṇā bhārgavāya nirūpitam ॥ 5 ॥\\nNothing else like this knowledge should occupy the mind. This was established to Bhargava by the Guru Środatta.\\nVerse 6\\nउपप्त्तयुपलब्धिभ्यां समेतं बहु चित्रितम्\\u200c । \\nअत्रोक्तेनापि नो वेद यदि करिचद्विमूढधीः ।॥ ६ ॥\\nupapttayupalabdhibhyāṁ sametaṁ bahu chitritam। \\natroktenāpi no veda yadi karicadvimūḍhadhīḥ ॥ 6 ॥\\nupapttayā - by reasons, upalabdhibhyāṁ - by realizations, sametam - accompanied, bahu - much, chitritam - colored, atra - here, uktena - by the said, api - even, na - not, veda - knows, yadi - if, karica - any, vimūḍhadhīḥ - bewildered mind\\nAccompanied by reasons and realizations, much adorned, even by what is said here, one cannot know if the mind is bewildered.\\nVerse 7\\nस॒ केवलं दैवहतः स्थाणुरेव न संशयः । \\nन तस्य स्यादपि ज्ञानं साक्षाच्छिवनिरूपितम्\\u200c ।॥ ७ ॥\\nsa kevalaṁ daivahataḥ sthāṇureva na sanśayaḥ। \\nna tasya syādapi jñānaṁ sākṣāchśivanirūpitam ॥ 7 ॥\\nHe is simply struck by fate, like an immovable post, without a doubt. He does not have any knowledge, even if it is directly defined by Shiva.\\nVerse 8\\nतत्ते शृणु समाख्यास्ये ज्ञानखण्डात्मना स्थितम्\\u200c । \\nअहो सतामद्भुतं हि वृत्तं सवेगुणोत्तरम्\\u200c ।॥ ८ ॥\\ntatte śṛṇu samākhyāsye jñānakhāṇḍātmanā sthitam। \\naho satāmadbhutaṁ hi vṛttaṁ saveguṇottaram ॥ 8 ॥\\nListen, I will explain it to you as it stands in the form of knowledge. Indeed, the conduct of the virtuous is wonderfully remarkable and full of superior qualities.\\nVerse 9\\nयन्मत्तोऽप्येष देवर्षिः शुश्रूषत्यपि किञ्चन । \\nअनुग्राहकता चैषा सतां सहजसम्भवा ।॥ ९ ॥\\nyanmatto\\'py eṣa devarṣiḥ śuśrūṣatyapi kiñcana। \\nanugrāhakatā caiṣā satāṁ sahajasambhavā ॥ 9 ॥\\nEven this divine sage desires to hear something from me, though he is indifferent. This benevolence is naturally born among the good.\\nVerse 10\\n\\u200b\\u200bयथा घ्राणोल्लासकता मृगनाभेः स्वतः स्थिता ।\\nएवं दत्तात्रेयमुखाच्छ्रुत्वा माहात्म्यवैभवम्\\u200c ॥ १०॥\\nyathā ghrāṇollāsakatā mṛganābheḥ svataḥ sthitā। \\nevaṁ dattātreyamukhācchrutvā māhātmyavaibhavam ॥ 10 ॥\\nJust as the natural attraction of the deer towards the scent of musk is inherent, similarly, upon hearing from Dattatreya\\'s mouth the grandeur of his greatness...\\nVerse 11\\nरामः सर्वजनारामो जामदग्न्यः शुभाशयः । \\nभक्त्यापहृतसच्चित्तस्तुष्णीं किञ्चिद्\\u200c बभूव ह ।॥११॥\\nrāmaḥ sarvajānārāmo jāmadagnyaḥ śubhāśayaḥ। \\nbhaktyāpahṛtasacchittastuṣṇīṁ kiñcid babhūva ha ॥11॥\\nRama, the delight of all people, the son of Jamadagni, of good intent, with his heart captivated by devotion, became somewhat silent.\\nVerse 12\\nअथासाद्य बहिर्वृत्ति भरितानन्दलोचनः । \\nरोमाञ्चपीवरवपुः स्वान्तरानन्दनिर्भरः ।१२॥।\\nathāsādya bahirvṛtti bharitānandalocanaḥ। \\nromāñcapīvaravapuḥ svāntarānandanirbharaḥ ॥12॥\\nThen, having expressed his state of mind, his eyes filled with joy, his body thrilled, full, and his inner self filled with bliss.\\nVerse 13\\nहर्षोऽमायन्\\u200c रोमकूपविभेदान्निर्गमन्निव । \\nप्रणनाम दत्तगुरुं दण्डवच्चरणान्तिके ।।१३॥\\nharṣo\\'māyan romakūpavibhedānnirgamaniva। \\npraṇanāma dattaguruṁ daṇḍavaccharaṇāntike ॥13॥\\nJoy arising, as if emerging by piercing his hair follicles, he bowed to Guru Dattatreya like a stick near his feet.\\nVerse 14\\nउत्थाय हर्षभरितः प्राह गद्गदसुस्वरः । \\nधन्योऽहं कृतकृत्योऽहं श्रीगुरो त्वत्प्रसादतः ।। १४।।\\nutthāya harṣabharitaḥ prāha gadgadasusvaraḥ। \\ndhanyo\\'haṁ kṛtakṛtyo\\'haṁ śrīguro tvatprasādataḥ ॥14॥\\nRising, filled with joy, he spoke with a choked sweet voice, \"I am blessed, I am accomplished, O revered Guru, by your grace.\"\\nVerse 15\\nयस्य मे करुणासिन्धुस्तुष्टः साक्षाद्\\u200c गुरुः शिवः । \\nयस्मिस्तुष्टे ब्रह्मपदमपि स्यात्\\u200c तृणसम्मितम्\\u200c ।१५॥\\nyasya me karuṇāsindhustuṣṭaḥ sākṣād guruḥ śivaḥ। \\nyasmistuṣṭe brahmapadamapi syāt tṛṇasammitam ॥15॥\\nMy Guru, directly Shiva, an ocean of compassion, is pleased. When he is pleased, even the position of Brahma would be like grass.\\nVerse 16\\nमृत्युरप्यात्मतां याति यस्मात्तुष्टाद्\\u200c गुरोर्ननु । \\nममाकाण्डादेव गुरुः सोऽद्य तुष्टो महेश्वरः ॥१६।।\\nmṛtyurapyātmatāṁ yāti yasmāttuṣṭād gurornanu। \\nmamākāṇḍādeva guruḥ so\\'dya tuṣṭo maheśvaraḥ ॥16॥\\nEven death attains self-realization from the pleased Guru. Indeed, without any reason, my Guru Maheshvara is pleased today.\\nVerse 17\\nमन्ये सर्वं मया प्राप्तमित्येव कृपया गुरोः । \\nनाथ माहात्म्यमखिलं श्रुतं त्वत्कृपयाधुन ।।१७॥\\nmanye sarvaṁ mayā prāptamityeva kṛpayā guroḥ। \\nnātha māhātmyamakhilaṁ śrutaṁ tvatkṛpayādhuna ॥17॥\\nI believe that I have attained everything indeed by the grace of the Guru. O master, I have now heard the entire greatness by your grace.\\nVerse 18\\nतामुपासितुमिच्छामि त्रिपुरां परमेश्वरीम्\\u200c । \\nतदुपास्तिक्रमं ब्रूहि मह्यं सुकृपया गुरो ॥१८॥\\ntāmupāsitumicchāmi tripurāṁ parameśvarīm। \\ntadupāstikramam brūhi mahyaṁ sukṛpayā guro ॥18॥\\nI wish to worship Tripura, the supreme goddess. O Guru, kindly tell me the method of that worship.\\nVerse 19\\nइति संप्रार्थितो दत्तगुरुरालक्ष्य भार्गवे । \\nयोग्यतां त्रिपुरोपास्तौ सच्छ्रद्धाभक्तिबृंहिताम्\\u200c ।१९।\\niti saṁprārthito dattagururālakṣya bhārgave। \\nyogyatāṁ tripuropāstau sacchraddhābhaktibṛṁhitām ॥19॥\\nThus requested, Guru Dattatreya, seeing Bhargava\\'s fitness, enhanced by true faith and devotion, for the worship of Tripura.\\nVerse 20\\nक्रमेण दीक्षयामास त्रिपुरोपास्तिहेतवे । \\nजामदग्न्योऽपि संप्राप्य त्रैपुरं दीक्षणं शुभम्\\u200c ।२०॥\\nkrameṇa dīkṣayāmāsa tripuropāstihetave। \\njāmadagnyo\\'pi saṁprāpya traipuraṁ dīkṣaṇaṁ śubham ॥20॥\\nGradually, he initiated him for the worship of Tripura. The son of Jamadagni, having received the auspicious initiation of Tripura.\\nVerse 21\\nसर्वदीक्षासमधिकं पूर्णतत्तवप्रबोधनम्\\u200c । \\nमन्त्रयन्त्रवासनाभिरन्वितं निखिलं क्रमम्\\u200c ॥२१॥\\nsarvadīkṣāsamadhikaṁ pūrṇatattvaprabodhanam। \\nmantrayantravasanābhiranvitaṁ nikhilaṁ kramam ॥21॥\\nSurpassing all initiations, with the complete awakening of the truth, accompanied by mantra and yantra practices, the entire process.\\nVerse 22\\nप्राप्य श्रीगुरुवक्त्राब्जाद्रसं मधुकरो यथा । \\nतृप्तान्तरङ्ग आनन्दमादितो भार्गवस्तदा ।२२।।\\nprāpya śrīguruvaktrābjād rasaṁ madhukaro yathā। \\ntṛptāntaraṅga ānandamādito bhārgavastadā ॥22॥\\nHaving received nectar from the lotus-like face of the revered Guru, like a bee, satisfied in his inner self, Bhargava then filled with bliss.\\nVerse 23\\nश्रीनाथेनाभ्यनुज्ञातस्त्रिपुरासाधनोद्यतः । \\nपरिक्रम्य गुरु नत्वा महेन्द्राद्रिमुपाययौ ॥२३॥\\nśrīnāthenābhyanugñātaḥ tripurāsādhanodyataḥ। \\nparikramya guru natvā mahendrādrimupāyayau ॥23॥\\nPermitted by the revered Guru, prepared for the worship of Tripura, having circumambulated the Guru and bowing, he went to Mahendra mountain.\\nVerse 24\\nतत्र निर्माय वसति शुभामतिसुखावहाम्\\u200c । \\nअभूदुपासनपरो वर्षद्वादशकं तदा ॥२४॥\\ntatra nirmāya vasati śubhāmatisukhāvahām। \\nabhūd upāsanaparo varṣadvādaśakaṁ tadā ॥24॥\\nThere, creating an auspicious and very blissful residence, he became devoted to worship for twelve years.\\nVerse 25\\nनित्यनैमित्तिकपरः पूजाजपपरायणः । \\nसदा श्रीत्रिपुरेशान्या मूर्त्तिध्यानैकतत्परः ।२५॥\\nnityanaimittikaparaḥ pūjājapaparāyaṇaḥ। \\nsadā śrītripureśānyā mūrtidhyānaikatatparaḥ ॥25॥\\nDevoted to daily and occasional duties, always dedicated to worship and chanting, exclusively devoted to the meditation of Tripureshanya.\\nVerse 26\\nएवं तस्यात्यगात्\\u200c कालो द्वादशाब्दो निमेषवत्\\u200c । \\nअथैकदा सुखासीनो जामदग्न्योऽनुचिन्तयत्\\u200c ॥२६॥\\nevaṁ tasyātyagāt kālo dvādaśābdo nimeṣavat। \\nathaikadā sukhāsīno jāmadagnyo\\'nucintayat ॥26॥\\nThus, his twelve years passed like a moment. Then, once comfortably seated, the son of Jamadagni thought.\\nVerse 27\\nपुरा यत्प्राह संवर्तो मया स्वभ्यर्थितः पथि । \\nतन्मया नैव विदितमंशेनापि तदा ननु ॥२७॥\\npurā yatprāha saṁvarto mayā svabhyanṛtaḥ pathi। \\ntanmayā naiva viditam aṁśenāpi tadā nanu ॥27॥\\nPreviously, what Samvarta said, earnestly requested by me on the path, that indeed was not known by me even in part.\\nVerse 28\\nविस्मृतं च मया यस्मात्\\u200c प्राडन पृष्टं गुरुं प्रति । \\nमाहात्म्यं त्रिपुराशक्तेः श्रुतं श्रीगुरुवक्त्रतः ।२८॥\\nvismṛtaṁ ca mayā yasmāt prāḍana pṛṣṭaṁ guruṁ prati। \\nmāhātmyaṁ tripurāśakteḥ śrutaṁ śrīguruvaktrataḥ ॥28॥\\nForgotten by me, therefore, I previously asked the Guru about the greatness of Tripura Shakti, which I heard from the mouth of the revered Guru.\\nVerse 29\\nपरन्तु तन्न विदितं यत्संवर्तः पुराऽब्रवीत्\\u200c । \\nमया सृष्टिप्रसङ्गेन पृष्टं किञ्चिद्\\u200c गुरुं प्रति ॥२९॥\\nparantu tanna viditaṁ yatsaṁvartaḥ purā\\'bravīt। \\nmayā sṛṣṭiprasanṅgena pṛṣṭaṁ kiñcid guruṁ prati ॥29॥\\nHowever, what Samvarta had said earlier, I did not understand at all. I had asked the Guru something about the topic of creation.\\nVerse 30\\nतदा कटकृदाख्यानं वर्णयित्वा च मे गुरुः । \\nनाब्रवीदप्रकृततस्तन्मे तत्तादृशं स्थितम्\\u200c ।३०॥\\ntadā kaṭakṛdākhyānaṁ varṇayitvā ca me guruḥ। \\nnābravīd aprakṛtatas tanme tattādṛśaṁ sthitam ॥30॥\\nThen, narrating the story of the battle, the Guru did not say to me, out of context, that which remained.\\nVerse 31\\nलोकस्य गतिमेतां तु न जानाम्यपि लेशतः । \\nकस्मादिदं समुदितं जगदाडम्बरं महत्\\u200c ।३१॥\\nlokasya gatimetāṁ tu na jānāmyapi leśataḥ। \\nkasmādidaṁ samuditaṁ jagadāḍambaraṁ mahat ॥31॥\\nI do not even know the slightest bit about the movement of this world. Why has this vast spectacle of the universe arisen?\\nVerse 32\\nकुत्र वा गच्छति पुनः कुत्र संस्थानमृच्छति । \\nअस्थिरं तु प्रपश्यामि सर्वं सर्वत्र किञ्चन ॥३२॥\\nkutra vā gacchati punaḥ kutra sansthānamṛcchati। \\nasthiraṁ tu prapaśyāmi sarvaṁ sarvatra kiñcana ॥32॥\\nWhere does it go again? Where does it attain a stable position? But I see everything unstable everywhere.\\nVerse 33\\nव्यवहारः स्थिरप्रायः कस्मादेतदपीदृशम्\\u200c । \\nचित्रां जगद्वयवह्रतिं प्रपश्याम्यविमर्शिनीम्\\u200c ।३३॥\\nvyavahāraḥ sthiraprāyaḥ kasmādetadapīdṛśam। \\nchitrāṁ jagadvayavahṛtiṁ prapaśyāmyavimarśinīm ॥33॥\\nConduct generally stable, why is this also such? I see strange worldly behavior without reflection.\\nVerse 34\\nअहो यथान्धानुगतो ह्यन्धश्चेष्टति तादृशः । \\nलोकस्य व्यवहारो वै सर्वस्याप्यभिलक्षितः ।।३४।।\\naho yathāndhānugato hyandhaśceṣṭati tādṛśaḥ। \\nlokasya vyavahāro vai sarvasyāpyabhilakṣitaḥ ॥34॥\\nOh, as the blind followed by the blind indeed act in that manner, the behavior of the world is observed to be the same for all.\\nVerse 35\\nनिदर्शनं ह्यात्मकृतिरत्र मे सर्वथा भवेत्\\u200c । \\nनूनं मम शैशवे किं जातं तन्मे न भावितम्\\u200c ।३५॥\\nnidarśanaṁ hyātmakṛtiratra me sarvathā bhavet। \\nnūnaṁ mama śaiśave kiṁ jātaṁ tanme na bhāvitam ॥35॥\\nIndeed, my self-action here would be an example in all ways. Surely, what happened in my childhood, that I do not remember.\\nVerse 36\\nकौमारे चान्यथा वृत्तं तारुण्येऽपि ततोऽन्यथा । \\nइदानीमन्यथैव्रास्ति व्यापारो मम सर्वथा ।३६॥\\nkaumāre cānyathā vṛttaṁ tāruṇye\\'pi tato\\'nyathā। \\nidānīmanyathaivāsti vyāpāro mama sarvathā ॥36॥\\nIn boyhood, behavior was different, and in youth also different, now, indeed, my activity is different in all ways.\\nVerse 37\\nकिमभूत्\\u200c फलमेतेषां तन्न वेद्मि कथञ्चन । \\nयद्यत्काले यच्च यच्च क्रियते येन येन वै ।३७॥\\nkimabhūt phalameteṣāṁ tan na vedmi kathañcana। \\nyadyatkāle yacca yacca kriyate yena yena vai ॥37॥\\nI do not know at all what has become of their actions, in any way whatsoever, in whatever way, at whatever time, and by whomever they are done.\\nVerse 38\\nसम्यगेवेति तदबुद्ध्वा फलावष्टम्भपूर्वकम् । \\nफलं किं तत्र संप्राप्तं केन वा सुखमात्मनः ।३८॥\\nsamyageveti tadabuddhvā phalāvaṣṭambhapūrvakam। \\nphalaṁ kiṁ tatra saṁprāptaṁ kena vā sukhamātmanaḥ ॥38॥\\nHaving understood it rightly, with prior consideration of the consequences, what outcome has been attained there? By whom has happiness been achieved for the self?\\nVerse 39\\nयच्चापि लोके फलवदविमृश्य फलं हि तत्\\u200c । \\nन फलं तदहं मन्ये पुनर्यस्मात् करोति सः ।३९॥\\nyaccāpi loke phalavadavimṛśya phalaṁ hi tat। \\nna phalaṁ tadahaṁ manye punaryasmāt karoti saḥ ॥39॥\\nWhatever action in this world is examined as having consequences like fruit, that examination indeed is the fruit. I do not consider that examination as the fruit, when that action is done again by the same person.\\nVerse 40\\nप्राप्ते फले फलेच्छावान्\\u200c पुनर्भूयात् कथं वद । \\nयस्मान्नित्यं करोत्येव जनः सर्वः फलेहया ।॥४०।\\nprāpte phale phalechāvan punarbhūyāt kathaṁ vada। \\nyasmān nityaṁ karotyeva janaḥ sarvaḥ phalehayā ॥40॥\\nWhen the result is attained, how does one desire another result again, tell me. Because all people always act with a desire for the result.\\nVerse 41\\nफलं तदेव संप्रोक्तं दुःखहानिः सुखं च वा । \\nकर्तव्यशेषे नो दुःखनाशो वा सुखमेव वा ॥४१॥\\nphalaṁ tadeva saṁproktaṁ duḥkhahāniḥ sukhaṁ ca vā। \\nkartavyaśeṣe no duḥkhanāśo vā sukham eva vā ॥41॥\\nIt is indeed that result which has been mentioned: the alleviation of suffering or happiness. In the distinction of duties, there is neither the cessation of suffering nor merely happiness alone.\\nVerse 42\\nकर्तव्यतैव दुःखानां परमं दुःखमुच्यते । \\nतत्सत्त्वे तु कथं ते स्तो दुःखाभावः सूखं च वा ॥४२॥\\nkartavyataiva duḥkhānāṁ paramaṁ duḥkhamucyate। \\ntatsattve tu kathaṁ te sto duḥkhābhāvaḥ sukhaṁ ca vā ॥42॥\\nDuty itself is said to be the supreme sorrow of sorrows. But in its existence, how are you to have the absence of sorrow or happiness?\\nVerse 43\\nयथा दग्धाखिलाङ्गस्य पादे पाटीरलेपनम्\\u200c । \\nतथा कर्तव्यशेषस्य सुखलाभ इहोच्यते ।४३।\\nyathā dagdhākhilāṅgasya pāde pāṭīralepanam। \\ntathā kartavyaśeṣasya sukhalābha iha ucyate ॥43॥\\nJust as applying a bandage to the entire body of one burned all over is described here as the gain of happiness from the performance of one’s duty.\\nVerse 44\\nयथा शराविद्धहृदः परिष्वङ्गोऽप्सरोगणैः । \\nतथा कर्तव्यशेषस्य सुखलाभ इहोच्यते ।४४॥\\nyathā śarāviddhahṛdaḥ pariṣvaṅgo\\'psarogaṇaiḥ। \\ntathā kartavyaśeṣasya sukhalābha iha ucyate ॥44॥\\nJust as the embrace of groups of apsaras for a person whose heart is pierced by arrows, thus is the gain of happiness here said from the performance of one’s duty.\\nVerse 45\\nयथा क्षयामयाविष्टनरस्य गीतसंश्रुतिः । \\nतथा कर्तव्यशेषस्य सुखलाभ इहोच्यते ॥४५॥\\nyathā kṣayāmayāviṣṭanarasya gītasaṁśrutiḥ। \\ntathā kartavyaśeṣasya sukhalābha iha ucyate ॥45॥\\nJust as the hearing of a song for a person afflicted by the disease of consumption of poison, thus is the gain of happiness here said from the performance of one’s duty.\\nVerse 46\\nसुखिनस्ते हि लोकेषु येऽकर्तव्यतया स्थिताः । \\nपर्णाशया महात्मानः सर्वदेहसुशीतलाः ।४६॥\\nsukhinaste hi lokeṣu ye\\'kartavyatayā sthitāḥ। \\nparṇāśayā mahātmānaḥ sarvadehasuśītalāḥ ॥46॥\\nHappy indeed are those in the worlds who are without duty, dwelling under trees, the great souls, whose all bodies are very cool.\\nVerse 47\\nयदि कर्तव्यशेषेऽपि सुखं स्यात्\\u200c केनचित्\\u200c क्वचित्\\u200c । \\nशूलप्रोतेऽपि च नरे स्यात्\\u200c सुखं गन्धमाल्यजम्\\u200c ।४७॥\\nyadi kartavyaśeṣe\\'pi sukhaṁ syāt kenacit kvacit। \\nśūlaprote\\'pi ca nare syāt sukhaṁ gandhamālyajam ॥47॥\\nIf someone somewhere could find happiness in the performance of one’s duty, then even a man with a spear wound could find happiness in fragrant garlands.\\nVerse 48\\nअहो महच्चित्रमेतत्\\u200c कर्तव्यशतसंकुले । \\nसुखमस्तीह यस्यार्थे करोत्येव सदा जनः ।४८॥\\naho mahacchitrametat kartavyaśatasaṁkule। \\nsukhamastīha yasyārthe karotyeva sadā janaḥ ॥48॥\\nOh, what a great wonder this is! Filled with hundreds of duties, there is happiness here, for which a person always acts.\\nVerse 49\\nअहो विचारमाहात्म्यं किं वदामि नृणामहम्\\u200c । \\nअनन्तकर्तव्यशैलाक्रान्ताः सौख्यं लभन्ति च ॥४९॥\\naho vicāramāhātmyaṁ kiṁ vadāmi nṛṇāmaham। \\nanantakartavyśailākrāntāḥ saukhyaṁ labhanti ca ॥49॥\\nOh, the greatness of contemplation, what can I say of men, who have overcome mountains of endless duties, and attain happiness.\\nVerse 50\\nयथा सौख्याय यतते सार्वभौमस्तु सर्वदा । \\nतथैव यतते नित्यमपि भिक्षाटने रतः ॥५०॥\\nyathā saukhyāya yatate sārvabhaumastu sarvadā। \\ntathaiva yatate nityamapi bhikṣāṭane rataḥ ॥50॥\\nJust as a sovereign always strives for happiness, so does one engaged in begging for alms always strive.\\nVerse 51\\nपृथक्\\u200c तौ प्राप्नुतः सौख्यं मन्येते कृतकृत्यताम्\\u200c । \\nतद्येन यान्ति सर्वेऽपि याम्यहं ताननुक्रमात्\\u200c ॥५१॥\\npṛthak tau prāpnutaḥ saukhyaṁ manyete kṛtakṛtyatām। \\ntadyena yānti sarve\\'pi yāmyahaṁ tān anukramāt ॥51॥\\nSeparately, they attain happiness, considering accomplishment, all go to achieve the same, and I also follow like them.\\nVerse 52\\nअनालोच्य फलं चापि यथान्धोऽन्धानुगस्तथा । \\nतदलं मेधयानेन भूयो गत्वा दयानिधिम्\\u200c ॥५२॥\\nanālocya phalaṁ cāpi yathāndho\\'ndhānugastathā। \\ntad alaṁ medhayānena bhūyo gatvā dayānidhim ॥52॥\\nJust as a blind person follows another blind person without considering the consequences, similarly, the ignorant person, by not reflecting, repeatedly goes to the ocean of compassion (to seek forgiveness due to their actions).\\nVerse 53\\nविजिज्ञासितजिज्ञास्यो विचिकित्साम्बुधेः परम्\\u200c । \\nपारं प्रपत्स्ये सुशुभं गुरुवाक्प्लवमाश्रितः ॥५३॥\\nvijijñāsitajijñāsyo vicikitsāmbudheḥ param। \\npāraṁ prapatsye suśubhaṁ guruvākplavamāśritaḥ ॥53॥\\nDesiring to know what is worth knowing, beyond the ocean of doubt, I will reach the other shore, taking refuge in the auspicious boat of the Guru\\'s words.\\nVerse 54\\nइति व्यवस्य सहसा जामदग्न्यः शुभाशयः । \\nप्रतस्थे तद्गिरिवराद्\\u200c गुरुदर्शनकाङ्क्षया ।।५४॥\\niti vyavasya sahasā jāmadagnyaḥ śubhāśayaḥ। \\npratasthe tad girivarād gurudarśanakāṅkṣayā ॥54॥\\nThus deciding immediately, the son of Jamadagni, of good intent, set out from that great mountain with the desire to see the Guru.\\nVerse 55\\nगन्धमादनशैलेन्द्रं प्राप्य शीघ्रमपश्यत । \\nगुरुं पद्मासनासीनं भूभास्वन्तमिव स्थितम्\\u200c ।।५५॥\\ngandhamādanaśailendraṁ prāpya śīghramapaśyata। \\nguruṁ padmāsanāsīnaṁ bhūbhāsvantamiva sthitam ॥55॥\\nReaching the Gandhamadana mountain, he quickly saw the Guru, seated in lotus position, shining like the sun, situated there.\\nVerse 56\\nप्रणनाम पादपीठपुरतो भुवि दण्डवत्\\u200c । \\nशिरसाऽपीडयत्\\u200c पादपद्मं निजकराश्रितम् ।५६॥\\npraṇanāma pādapīṭhapurato bhuvi daṇḍavat। \\nśirasā\\'pīḍayat pādapadmaṁ nijakarāśritam ॥56॥\\nHe bowed before the footstool, like a stick on the ground, touched the lotus feet with his head and hands.\\nVerse 57\\nअथैवं प्रणतं रामं दत्तात्रेयः प्रसन्नधीः । \\nआशीर्भिर्योजयामास समुत्थापयदादरात्\\u200c ।।५७॥\\nathaivaṁ praṇataṁ rāmaṁ dattātreyaḥ prasannadhīḥ। \\nāśīrbhiryojayāmāsa samutthāpayadādarāt ॥57॥\\nSo, having bowed down in this way, Rama, Dattatreya, with a pleased mind, blessed him, and graciously raised him up.\\nVerse 58\\nवत्सोत्तिष्ठ चिरादद्य त्वां पश्यामि समागतम्\\u200c । \\nब्रूहि स्वात्मभवं वृत्तं निरामयतया स्थितम्\\u200c ।५८॥\\nvatsottiṣṭha cirādadya tvāṁ paśyāmi samāgatam। \\nbrūhi svātmabhavaṁ vṛttaṁ nirāmayatayā sthitam ॥58॥\\n\"My dear, rise, after a long time, today I see you arrived. Tell me your own state, the events, situated without any illness.\"\\nVerse 59\\nअथोत्थाय गुरूक्त्या स गुर्वादिष्टाम्यविष्टरः । \\nउपविश्य प्रसन्नात्मा बद्धाञ्जलिपुटोऽब्रवीत्\\u200c ।।५९॥\\nathotthāya gurūktyā sa gurvādiṣṭāmyaviṣṭaraḥ। \\nupaviśya prasannātmā baddhāñjalipuṭo\\'bravīt ॥59॥\\nThen, rising by the Guru\\'s words, he, delighted by the Guru\\'s instruction, sat with a joyful heart, and said with folded hands.\\nVerse 60\\nश्रीगुरो करुणासिन्धो तवत्कृपामृत आप्लुतः । \\nकथं स॒ परिभूयेत विधिसृष्टैरथामयैः ।॥६०॥\\nśrīguro karuṇāsindho tvatkṛpāmṛta āplutaḥ। \\nkathaṁ sa paribhūyeta vidhisṛṣṭairathāmayaiḥ ॥60॥\\nRevered Guru, ocean of compassion, immersed in your nectar of grace, how would he be affected by fate-created diseases?\\nVerse 61\\nत्वत्कृपात्मामृतकरमण्डलान्तः स्थितं तु माम्\\u200c । \\nसन्तापयेत्\\u200c कथं व्याधिश्चण्डांशुरतिभीषणः ।६१॥\\ntvatkṛpātmāmṛtakaramandalāntaḥ sthitaṁ tu mām। \\nsantāpayet kathaṁ vyādhiścaṇḍāṁśuratibhīṣaṇaḥ ॥61॥\\nBeing situated within the circle of the nectar of your grace, how would a scorching, very frightening disease afflict me?\\nVerse 62\\nआन्तरं बाह्यमपि ते कृपयानन्दितं मम । \\nसदा स्थितं किन्तु भवत्पादाब्जवियुति विना ।६२॥\\nāntaraṁ bāhyamapi te kṛpayānanditaṁ mama। \\nsadā sthitaṁ kintu bhavatpādabjaviyuti vinā ॥62॥\\nInternally and externally, by your grace, always delighted, yet situated without separation from your lotus feet.\\nVerse 63\\nनान्यद्रुजवाहं किञ्चिदासीन्मे लेशतः क्वचित्\\u200c । \\nतद्भवच्चरणाम्भोजदर्शनादद्य वे पुनः ।॥६३॥\\nnānyadrujavāhaṁ kiñcidāsīnme leśataḥ kvacit। \\ntadbhavaccaraṇāmbhojadarśanādadya ve punaḥ ॥63॥\\nI am not interested in anything else, even a little bit, seated as I am. Therefore, may I have the sight of your lotus feet again today.\\nVerse 64\\nसंपूर्णता समापन्ना सर्वथा श्रीगुरो ननु । \\nतत्\\u200c किञ्चिच्चिरसंवृत्तं हृदि मे परिवर्तते ॥६४॥\\nsaṁpūrṇatā samāpannā sarvathā śrīguro nanu। \\ntat kiñciccirasaṁvṛttaṁ hṛdi me parivartate ॥64॥\\nCompleteness attained in every way, revered Guru, indeed. Yet, there’s something, unsettling in my heart for a long time.\\nVerse 65\\nतत्प्रष्टुं त्वाभिवाञ्छामि चिरसंशयितान्तरः । \\nआज्ञप्तो भवताद्याहं पृच्छामि विचिकित्सितम्\\u200c ।॥६५॥\\ntatpraṣṭuṁ tvābhivāñchāmi cirasaṁśayitāntaraḥ। \\nājñapto bhavatādyāhaṁ pṛcchāmi vicikitsitam ॥65॥\\nI wish to ask you that, a long-standing doubt within, permitted by you today, I ask the question.\\nVerse 66\\nसंश्रुत्यैवं भार्गवोक्तिं दत्तात्रेयो दयानिधिः । \\nसम्प्रहृष्टमना राममूचे प्रीत्याथ भार्गवम् ॥६६॥\\nsaṁśrutyaivaṁ bhārgavoktiṁ dattātreyo dayānidhiḥ। \\nsaṁprahṛṣṭamanā rāmaṁ ūce prītyātha bhārgavam ॥66॥\\nHearing thus the words of Bhargava, Dattatreya, an ocean of compassion, delighted, then said to Rama with affection.\\nVerse 67\\nपृच्छ भार्गव यत्तेऽद्य प्रष्टव्यं चिरसम्भृतम्\\u200c । \\nतव भक्त्या प्रसन्नोऽस्मि प्रब्रवीमि तवेप्सितम्\\u200c ।६७॥\\npṛccha bhārgava yatte\\'dya praṣṭavyaṁ cirasaṁbhṛtam। \\ntava bhaktyā prasanno\\'smi prabravīmi tavepsitam ॥67॥\\nAsk, Bhargava, what you have to ask today, long accumulated. Pleased by your devotion, I will tell what you desire.'"
      ]
     },
     "execution_count": 15,
     "metadata": {},
     "output_type": "execute_result"
    }
   ],
   "source": [
    "'Chapter ' + video_chapters[1]"
   ]
  },
  {
   "cell_type": "code",
   "execution_count": null,
   "id": "d2c1e18a-4a93-437e-8d66-1f0b4181be56",
   "metadata": {},
   "outputs": [],
   "source": []
  }
 ],
 "metadata": {
  "kernelspec": {
   "display_name": "Python 3 (ipykernel)",
   "language": "python",
   "name": "python3"
  },
  "language_info": {
   "codemirror_mode": {
    "name": "ipython",
    "version": 3
   },
   "file_extension": ".py",
   "mimetype": "text/x-python",
   "name": "python",
   "nbconvert_exporter": "python",
   "pygments_lexer": "ipython3",
   "version": "3.12.4"
  }
 },
 "nbformat": 4,
 "nbformat_minor": 5
}
